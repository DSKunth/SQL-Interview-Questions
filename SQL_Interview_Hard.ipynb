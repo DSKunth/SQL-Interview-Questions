{
 "cells": [
  {
   "cell_type": "markdown",
   "id": "b8b7f00d",
   "metadata": {},
   "source": [
    "# [SQL Interview Questions on Data Lemur - Hard](https://datalemur.com/questions?difficulty=Hard&category=SQL)\n",
    "\n",
    "##### Solved by: Dorothy Kunth"
   ]
  },
  {
   "cell_type": "markdown",
   "id": "3754840b",
   "metadata": {},
   "source": [
    "### 1. [Active User Retention - Facebook](https://datalemur.com/questions/user-retention)\n",
    "\n",
    "Assume you're given a table containing information on Facebook user actions. Write a query to obtain number of monthly active users (MAUs) in July 2022, including the month in numerical format \"1, 2, 3\".\n",
    "\n",
    "Hint:\n",
    "\n",
    "An active user is defined as a user who has performed actions such as 'sign-in', 'like', or 'comment' in both the current month and the previous month.\n",
    "\n",
    "``user_actions`` table\n",
    "\n",
    "| user_id | event_id | event_type | event_date          |\n",
    "|---------|----------|------------|---------------------|\n",
    "| 445     | 7765     | sign-in    | 05/31/2022 12:00:00 |\n",
    "| 445     | 3634     | like       | 06/05/2022 12:00:00 |\n",
    "| 648     | 3124     | like       | 06/18/2022 12:00:00 |\n",
    "| 648     | 2725     | sign-in    | 06/22/2022 12:00:00 |\n",
    "| 648     | 8568     | comment    | 07/03/2022 12:00:00 |\n",
    "| 445     | 4363     | sign-in    | 07/05/2022 12:00:00 |\n",
    "| 445     | 2425     | like       | 07/06/2022 12:00:00 |\n",
    "| 445     | 2484     | like       | 07/22/2022 12:00:00 |\n",
    "| 648     | 1423     | sign-in    | 07/26/2022 12:00:00 |\n",
    "| 445     | 5235     | comment    | 07/29/2022 12:00:00 |\n",
    "| 742     | 6458     | sign-in    | 07/03/2022 12:00:00 |\n",
    "| 742     | 1374     | comment    | 07/19/2022 12:00:00 |\n"
   ]
  },
  {
   "cell_type": "markdown",
   "id": "5d3a12d7",
   "metadata": {},
   "source": [
    "### Solution\n",
    "1. Use window function LAG() partition by user_id and order by event_date then extract the month\n",
    "\n",
    "```sql\n",
    "SELECT\n",
    "    user_id,\n",
    "    EXTRACT(MONTH FROM event_date) AS event_month,\n",
    "    EXTRACT(MONTH FROM LAG(event_date) OVER (PARTITION BY user_id ORDER BY event_date)) AS previous_month,\n",
    "    EXTRACT(MONTH FROM event_date) - \n",
    "        EXTRACT(MONTH FROM LAG(event_date) OVER (PARTITION BY user_id ORDER BY event_date)) AS diff\n",
    "FROM user_actions\n",
    "```\n",
    "| user_id | event_month | previous_month | diff |\n",
    "|---------|-------------|----------------|------|\n",
    "| 445     | 5           | NULL           | NULL |\n",
    "| 445     | 6           | 5              | 1    |\n",
    "| 445     | 7           | 6              | 1    |\n",
    "| 445     | 7           | 7              | 0    |\n",
    "| 445     | 7           | 7              | 0    |\n",
    "| 445     | 7           | 7              | 0    |\n",
    "| 648     | 6           | NULL           | NULL |\n",
    "| 648     | 6           | 6              | 0    |\n",
    "| 648     | 7           | 6              | 1    |\n",
    "| 648     | 7           | 7              | 0    |\n",
    "| 742     | 7           | NULL           | NULL |\n",
    "| 742     | 7           | 7              | 0    |\n",
    "\n",
    "\n",
    "<br><br>\n",
    "2. Use the above query as an inline query (FROM clause) and where event_month is 7 and diff is 1\n",
    "```sql\n",
    "SELECT\n",
    "  event_month AS month,\n",
    "  COUNT(DISTINCT user_id) AS monthly_active_users\n",
    "FROM(\n",
    "  SELECT\n",
    "    user_id,\n",
    "    EXTRACT(MONTH FROM event_date) AS event_month,\n",
    "    EXTRACT(MONTH FROM LAG(event_date) OVER (PARTITION BY user_id ORDER BY event_date)) AS previous_month,\n",
    "    EXTRACT(MONTH FROM event_date) - \n",
    "        EXTRACT(MONTH FROM LAG(event_date) OVER (PARTITION BY user_id ORDER BY event_date)) AS diff\n",
    "  FROM user_actions) user_activity\n",
    "WHERE event_month = 7 \n",
    "  AND diff = 1\n",
    "GROUP BY 1\n",
    "```\n",
    "| month | monthly_active_users |\n",
    "|-------|----------------------|\n",
    "| 7     | 2                    |\n"
   ]
  },
  {
   "cell_type": "markdown",
   "id": "e641cb42",
   "metadata": {},
   "source": [
    "##### in progress"
   ]
  }
 ],
 "metadata": {
  "kernelspec": {
   "display_name": "Python 3 (ipykernel)",
   "language": "python",
   "name": "python3"
  },
  "language_info": {
   "codemirror_mode": {
    "name": "ipython",
    "version": 3
   },
   "file_extension": ".py",
   "mimetype": "text/x-python",
   "name": "python",
   "nbconvert_exporter": "python",
   "pygments_lexer": "ipython3",
   "version": "3.9.7"
  }
 },
 "nbformat": 4,
 "nbformat_minor": 5
}
