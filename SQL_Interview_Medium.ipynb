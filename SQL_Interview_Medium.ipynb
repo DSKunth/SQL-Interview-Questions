{
 "cells": [
  {
   "cell_type": "markdown",
   "id": "b8b7f00d",
   "metadata": {},
   "source": [
    "# [SQL Interview Questions on Data Lemur - Medium](https://datalemur.com/questions?difficulty=Medium&category=SQL)\n",
    "\n",
    "##### Solved by: Dorothy Kunth"
   ]
  },
  {
   "cell_type": "markdown",
   "id": "3754840b",
   "metadata": {},
   "source": [
    "### 1. [User's Third Transaction - Uber](https://datalemur.com/questions/sql-third-transaction)\n",
    "\n",
    "Assume you are given the table below on Uber transactions made by users. Write a query to obtain the third transaction of every user. Output the user id, spend and transaction date.\n",
    "\n",
    "``transactions`` table\n",
    "\n",
    "| user_id | spend  | transaction_date    |\n",
    "|---------|--------|---------------------|\n",
    "| 111     | 100.50 | 01/08/2022 12:00:00 |\n",
    "| 111     | 55.00  | 01/10/2022 12:00:00 |\n",
    "| 121     | 36.00  | 01/18/2022 12:00:00 |\n",
    "| 145     | 24.99  | 01/26/2022 12:00:00 |\n",
    "| 111     | 89.60  | 02/05/2022 12:00:00 |\n",
    "| 145     | 45.30  | 02/28/2022 12:00:00 |\n",
    "| 121     | 22.20  | 04/01/2022 12:00:00 |\n",
    "| 121     | 67.90  | 04/03/2022 12:00:00 |\n",
    "| 263     | 156.00 | 04/11/2022 12:00:00 |\n",
    "| 230     | 78.30  | 06/14/2022 12:00:00 |\n",
    "| 263     | 68.12  | 07/11/2022 12:00:00 |\n",
    "| 263     | 100.00 | 07/12/2022 12:00:00 |\n"
   ]
  },
  {
   "cell_type": "markdown",
   "id": "5d3a12d7",
   "metadata": {},
   "source": [
    "### Solution\n",
    "1. Use window function ROW_NUMBER() partition by user_id and order by transaction_date\n",
    "\n",
    "```sql\n",
    "SELECT\n",
    "  user_id,\n",
    "  spend,\n",
    "  transaction_date,\n",
    "  ROW_NUMBER() OVER(PARTITION BY user_id ORDER BY transaction_date) AS transaction_sequence\n",
    "FROM transactions;\n",
    "```\n",
    "| user_id | spend  | transaction_date    | transaction_sequence |\n",
    "|---------|--------|---------------------|----------------------|\n",
    "| 111     | 100.50 | 01/08/2022 12:00:00 | 1                    |\n",
    "| 111     | 55.00  | 01/10/2022 12:00:00 | 2                    |\n",
    "| 111     | 89.60  | 02/05/2022 12:00:00 | 3                    |\n",
    "| 121     | 36.00  | 01/18/2022 12:00:00 | 1                    |\n",
    "| 121     | 22.20  | 04/01/2022 12:00:00 | 2                    |\n",
    "| 121     | 67.90  | 04/03/2022 12:00:00 | 3                    |\n",
    "| 145     | 24.99  | 01/26/2022 12:00:00 | 1                    |\n",
    "| 145     | 45.30  | 02/28/2022 12:00:00 | 2                    |\n",
    "| 230     | 78.30  | 06/14/2022 12:00:00 | 1                    |\n",
    "| 263     | 156.00 | 04/11/2022 12:00:00 | 1                    |\n",
    "| 263     | 68.12  | 07/11/2022 12:00:00 | 2                    |\n",
    "| 263     | 100.00 | 07/12/2022 12:00:00 | 3                    |\n",
    "\n",
    "\n",
    "<br><br>\n",
    "2. Use the above query as an inline query (FROM clause) and filter where transaction_sequence = 3\n",
    "```sql\n",
    "SELECT \n",
    "  user_id, \n",
    "  spend, \n",
    "  transaction_date\n",
    "FROM (\n",
    "      SELECT \n",
    "        user_id, \n",
    "        spend, \n",
    "        transaction_date,\n",
    "        ROW_NUMBER() OVER (PARTITION BY user_id ORDER BY transaction_date) AS transaction_sequence\n",
    "      FROM transactions) AS ordered_transactions\n",
    "WHERE transaction_sequence = 3\n",
    "```\n",
    "| user_id | spend  | transaction_date    |\n",
    "|---------|--------|---------------------|\n",
    "| 111     | 89.60  | 02/05/2022 12:00:00 |\n",
    "| 121     | 67.90  | 04/03/2022 12:00:00 |\n",
    "| 263     | 100.00 | 07/12/2022 12:00:00 |"
   ]
  },
  {
   "cell_type": "markdown",
   "id": "baee4737",
   "metadata": {},
   "source": [
    "##### in progress"
   ]
  }
 ],
 "metadata": {
  "kernelspec": {
   "display_name": "Python 3 (ipykernel)",
   "language": "python",
   "name": "python3"
  },
  "language_info": {
   "codemirror_mode": {
    "name": "ipython",
    "version": 3
   },
   "file_extension": ".py",
   "mimetype": "text/x-python",
   "name": "python",
   "nbconvert_exporter": "python",
   "pygments_lexer": "ipython3",
   "version": "3.9.7"
  }
 },
 "nbformat": 4,
 "nbformat_minor": 5
}
